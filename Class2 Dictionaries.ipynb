{
 "cells": [
  {
   "cell_type": "markdown",
   "id": "bb06ae78",
   "metadata": {},
   "source": [
    "# Dictionaries"
   ]
  },
  {
   "cell_type": "markdown",
   "id": "5d8c9492",
   "metadata": {},
   "source": [
    "We have learned about \"sequences\" in the previous session. Now let's switch the gears and learn about \"mappings\" in python. These dictionaries are nothing but hash tables in other programming languages.\n",
    "\n",
    "In this session, we will learn briefly about an introduction to dictionaries and what it  consists af:\n",
    "    1.) Constructing a dictionary.\n",
    "    \n",
    "    2.) Acessing objects from a Dictionary.\n",
    "    \n",
    "    3.) Basic Dictionary methods.\n",
    "    \n",
    " Before we dive deep into this concept, Let's understand wher are mappings?\n",
    "\n",
    "Mappings are a collection of objects taht are stored by a 'key'.Unlike a sequence, mapping store objects by their relative position. this is an important distinction sincr=e mappings wont't retain the order since they have objects defined by a key.\n",
    "\n",
    "A python dictionary consists of a key and then an associated values. that value can be almost any python object."
   ]
  },
  {
   "cell_type": "markdown",
   "id": "8225300b",
   "metadata": {},
   "source": [
    "# Constructing a Dictionary"
   ]
  },
  {
   "cell_type": "markdown",
   "id": "4c6837a8",
   "metadata": {},
   "source": [
    "Lets see how we can construct dictionaries to a better understanding of how they work."
   ]
  },
  {
   "cell_type": "code",
   "execution_count": 3,
   "id": "4e961a5c",
   "metadata": {},
   "outputs": [],
   "source": [
    "# Make a dictionary with{} and : to signify a key and a value\n",
    "my_dict = {'key1':'value1','key2':'value2'}"
   ]
  },
  {
   "cell_type": "code",
   "execution_count": 4,
   "id": "4092684f",
   "metadata": {},
   "outputs": [
    {
     "data": {
      "text/plain": [
       "{'key1': 'value1', 'key2': 'value2'}"
      ]
     },
     "execution_count": 4,
     "metadata": {},
     "output_type": "execute_result"
    }
   ],
   "source": [
    "my_dict"
   ]
  },
  {
   "cell_type": "code",
   "execution_count": 6,
   "id": "f4dd2f79",
   "metadata": {},
   "outputs": [
    {
     "data": {
      "text/plain": [
       "'value2'"
      ]
     },
     "execution_count": 6,
     "metadata": {},
     "output_type": "execute_result"
    }
   ],
   "source": [
    "my_dict['key2']"
   ]
  },
  {
   "cell_type": "markdown",
   "id": "9401fcd1",
   "metadata": {},
   "source": [
    "Note that dictionaries and very flexible in the data types they can hold. For Example:"
   ]
  },
  {
   "cell_type": "code",
   "execution_count": 7,
   "id": "7cb4b2d9",
   "metadata": {},
   "outputs": [],
   "source": [
    "my_dict = {'Roll_number':123,'Marks':[12,23,33],'Subject':['computer','science','Maths']}"
   ]
  },
  {
   "cell_type": "code",
   "execution_count": 8,
   "id": "4790f3ae",
   "metadata": {},
   "outputs": [
    {
     "data": {
      "text/plain": [
       "'Maths'"
      ]
     },
     "execution_count": 8,
     "metadata": {},
     "output_type": "execute_result"
    }
   ],
   "source": [
    "#lets's call items from the dictionary\n",
    "my_dict['Subject'][2]"
   ]
  },
  {
   "cell_type": "code",
   "execution_count": 9,
   "id": "ccd087c9",
   "metadata": {},
   "outputs": [
    {
     "data": {
      "text/plain": [
       "33"
      ]
     },
     "execution_count": 9,
     "metadata": {},
     "output_type": "execute_result"
    }
   ],
   "source": [
    "# Can cell as index on that value\n",
    "my_dict['Marks'][2]"
   ]
  },
  {
   "cell_type": "code",
   "execution_count": 11,
   "id": "8124ef06",
   "metadata": {},
   "outputs": [
    {
     "data": {
      "text/plain": [
       "'COMPUTER'"
      ]
     },
     "execution_count": 11,
     "metadata": {},
     "output_type": "execute_result"
    }
   ],
   "source": [
    "# Can then even cell methods on that value\n",
    "my_dict['Subject'][0].upper()"
   ]
  },
  {
   "cell_type": "markdown",
   "id": "25ef972d",
   "metadata": {},
   "source": [
    "We can effect the values of a key as well for instance:"
   ]
  },
  {
   "cell_type": "code",
   "execution_count": 12,
   "id": "ffe2d242",
   "metadata": {},
   "outputs": [
    {
     "data": {
      "text/plain": [
       "[12, 23, 33]"
      ]
     },
     "execution_count": 12,
     "metadata": {},
     "output_type": "execute_result"
    }
   ],
   "source": [
    "my_dict['Marks']"
   ]
  },
  {
   "cell_type": "code",
   "execution_count": 13,
   "id": "396b7b96",
   "metadata": {},
   "outputs": [],
   "source": [
    "# add marks to the first elements\n",
    "my_dict['Marks'][0] = my_dict['Marks'][0] + 30"
   ]
  },
  {
   "cell_type": "code",
   "execution_count": 14,
   "id": "05027bf1",
   "metadata": {},
   "outputs": [],
   "source": [
    "#\n",
    "my_dict['Marks'][1] = 50"
   ]
  },
  {
   "cell_type": "code",
   "execution_count": 15,
   "id": "ea43e82b",
   "metadata": {},
   "outputs": [
    {
     "data": {
      "text/plain": [
       "[42, 50, 33]"
      ]
     },
     "execution_count": 15,
     "metadata": {},
     "output_type": "execute_result"
    }
   ],
   "source": [
    "#Check\n",
    "my_dict['Marks']"
   ]
  },
  {
   "cell_type": "markdown",
   "id": "5826f522",
   "metadata": {},
   "source": [
    "Note, Pythgon has a built-in method of doing self subtraction or ADDITION (OR multiplication or division). We could also use +=or -= for the above statemebt.For Example"
   ]
  },
  {
   "cell_type": "code",
   "execution_count": 16,
   "id": "cbcccc77",
   "metadata": {},
   "outputs": [],
   "source": [
    "my_dict['Marks'][2] += 20"
   ]
  },
  {
   "cell_type": "code",
   "execution_count": 17,
   "id": "c4d28ab0",
   "metadata": {},
   "outputs": [
    {
     "data": {
      "text/plain": [
       "[42, 50, 53]"
      ]
     },
     "execution_count": 17,
     "metadata": {},
     "output_type": "execute_result"
    }
   ],
   "source": [
    "my_dict['Marks']"
   ]
  },
  {
   "cell_type": "code",
   "execution_count": 20,
   "id": "b0221b3f",
   "metadata": {},
   "outputs": [],
   "source": [
    "my_dict['Marks'][2] -= 3"
   ]
  },
  {
   "cell_type": "code",
   "execution_count": 21,
   "id": "c5189add",
   "metadata": {},
   "outputs": [
    {
     "data": {
      "text/plain": [
       "[42, 50, 50]"
      ]
     },
     "execution_count": 21,
     "metadata": {},
     "output_type": "execute_result"
    }
   ],
   "source": [
    "my_dict['Marks']"
   ]
  },
  {
   "cell_type": "markdown",
   "id": "08f2fb20",
   "metadata": {},
   "source": [
    "We can also create keys by assignment For instance if we started off with an empty dictionary, we could continually add to it."
   ]
  },
  {
   "cell_type": "code",
   "execution_count": 18,
   "id": "994d8500",
   "metadata": {},
   "outputs": [],
   "source": [
    "# Create a new dictionary\n",
    "d = {}"
   ]
  },
  {
   "cell_type": "code",
   "execution_count": 19,
   "id": "d2ed77c7",
   "metadata": {},
   "outputs": [
    {
     "data": {
      "text/plain": [
       "{}"
      ]
     },
     "execution_count": 19,
     "metadata": {},
     "output_type": "execute_result"
    }
   ],
   "source": [
    "d"
   ]
  },
  {
   "cell_type": "code",
   "execution_count": 22,
   "id": "64b9ab7d",
   "metadata": {},
   "outputs": [],
   "source": [
    "# Create a new key through assignment\n",
    "d['Name'] = 'Vivaan'"
   ]
  },
  {
   "cell_type": "code",
   "execution_count": 23,
   "id": "47be727a",
   "metadata": {},
   "outputs": [
    {
     "data": {
      "text/plain": [
       "{'Name': 'Vivaan'}"
      ]
     },
     "execution_count": 23,
     "metadata": {},
     "output_type": "execute_result"
    }
   ],
   "source": [
    "d"
   ]
  },
  {
   "cell_type": "code",
   "execution_count": 24,
   "id": "f426cd07",
   "metadata": {},
   "outputs": [],
   "source": [
    "#Can do this with any object\n",
    "d['Salary'] = 34000"
   ]
  },
  {
   "cell_type": "code",
   "execution_count": 26,
   "id": "7ec511ec",
   "metadata": {},
   "outputs": [
    {
     "data": {
      "text/plain": [
       "{'Name': 'Vivaan', 'Salary': 34000}"
      ]
     },
     "execution_count": 26,
     "metadata": {},
     "output_type": "execute_result"
    }
   ],
   "source": [
    "#Show\n",
    "d"
   ]
  },
  {
   "cell_type": "code",
   "execution_count": 27,
   "id": "32cdcc78",
   "metadata": {},
   "outputs": [],
   "source": [
    "d.update({'Salary':[30000,45000]})"
   ]
  },
  {
   "cell_type": "code",
   "execution_count": 28,
   "id": "69a8ca09",
   "metadata": {},
   "outputs": [
    {
     "data": {
      "text/plain": [
       "{'Name': 'Vivaan', 'Salary': [30000, 45000]}"
      ]
     },
     "execution_count": 28,
     "metadata": {},
     "output_type": "execute_result"
    }
   ],
   "source": [
    "d"
   ]
  },
  {
   "cell_type": "markdown",
   "id": "abba6a71",
   "metadata": {},
   "source": [
    "# Afew Dictionary Methods\n",
    "\n",
    "There are a few methods we can call a dictionary.Let's get a quick introduction to few methods:"
   ]
  },
  {
   "cell_type": "code",
   "execution_count": 29,
   "id": "7d088ceb",
   "metadata": {},
   "outputs": [],
   "source": [
    "# Create a typical dictionary\n",
    "d = {'key1':1,'key2':2,'key3':3}"
   ]
  },
  {
   "cell_type": "code",
   "execution_count": 32,
   "id": "d3788c6f",
   "metadata": {},
   "outputs": [
    {
     "data": {
      "text/plain": [
       "dict_keys(['key1', 'key2', 'key3'])"
      ]
     },
     "execution_count": 32,
     "metadata": {},
     "output_type": "execute_result"
    }
   ],
   "source": [
    "#method to a return a list of all keys\n",
    "d.keys()"
   ]
  },
  {
   "cell_type": "code",
   "execution_count": 33,
   "id": "9850cc44",
   "metadata": {},
   "outputs": [
    {
     "data": {
      "text/plain": [
       "dict_values([1, 2, 3])"
      ]
     },
     "execution_count": 33,
     "metadata": {},
     "output_type": "execute_result"
    }
   ],
   "source": [
    "# Meyhod to grab all values\n",
    "d.values()"
   ]
  },
  {
   "cell_type": "code",
   "execution_count": 34,
   "id": "d737e534",
   "metadata": {},
   "outputs": [
    {
     "data": {
      "text/plain": [
       "dict_items([('key1', 1), ('key2', 2), ('key3', 3)])"
      ]
     },
     "execution_count": 34,
     "metadata": {},
     "output_type": "execute_result"
    }
   ],
   "source": [
    "# Method to return tuples of all items (we'll learn about tuples soon)\n",
    "d.items()"
   ]
  },
  {
   "cell_type": "code",
   "execution_count": 35,
   "id": "06234852",
   "metadata": {},
   "outputs": [
    {
     "name": "stdout",
     "output_type": "stream",
     "text": [
      "('key1', 1)\n",
      "('key2', 2)\n",
      "('key3', 3)\n"
     ]
    }
   ],
   "source": [
    "for key in d.items():\n",
    "    print(key)"
   ]
  },
  {
   "cell_type": "code",
   "execution_count": null,
   "id": "2bdd6368",
   "metadata": {},
   "outputs": [],
   "source": []
  }
 ],
 "metadata": {
  "kernelspec": {
   "display_name": "Python 3",
   "language": "python",
   "name": "python3"
  },
  "language_info": {
   "codemirror_mode": {
    "name": "ipython",
    "version": 3
   },
   "file_extension": ".py",
   "mimetype": "text/x-python",
   "name": "python",
   "nbconvert_exporter": "python",
   "pygments_lexer": "ipython3",
   "version": "3.8.8"
  }
 },
 "nbformat": 4,
 "nbformat_minor": 5
}
