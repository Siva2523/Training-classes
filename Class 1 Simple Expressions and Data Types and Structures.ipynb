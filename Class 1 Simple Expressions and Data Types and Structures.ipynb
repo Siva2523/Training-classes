{
 "cells": [
  {
   "cell_type": "markdown",
   "id": "f2d277a0",
   "metadata": {},
   "source": [
    "#Boolean expressions"
   ]
  },
  {
   "cell_type": "markdown",
   "id": "422a7f73",
   "metadata": {},
   "source": [
    "Boolean expressions"
   ]
  },
  {
   "cell_type": "markdown",
   "id": "a8ab5ff5",
   "metadata": {},
   "source": [
    "# Boolean expressions"
   ]
  },
  {
   "cell_type": "code",
   "execution_count": null,
   "id": "5546c2a2",
   "metadata": {},
   "outputs": [],
   "source": [
    "True and False"
   ]
  },
  {
   "cell_type": "code",
   "execution_count": null,
   "id": "a80d8b78",
   "metadata": {},
   "outputs": [],
   "source": [
    "True or False"
   ]
  },
  {
   "cell_type": "code",
   "execution_count": null,
   "id": "2e7a663d",
   "metadata": {},
   "outputs": [],
   "source": [
    "not False"
   ]
  },
  {
   "cell_type": "code",
   "execution_count": null,
   "id": "4707dab5",
   "metadata": {},
   "outputs": [],
   "source": [
    "True is True"
   ]
  },
  {
   "cell_type": "code",
   "execution_count": null,
   "id": "70b3aed3",
   "metadata": {},
   "outputs": [],
   "source": [
    "True is False"
   ]
  },
  {
   "cell_type": "code",
   "execution_count": null,
   "id": "35e1cbaf",
   "metadata": {},
   "outputs": [],
   "source": [
    "'b' is 'x'"
   ]
  },
  {
   "cell_type": "code",
   "execution_count": null,
   "id": "ce0d52cc",
   "metadata": {},
   "outputs": [],
   "source": [
    "True + True"
   ]
  },
  {
   "cell_type": "code",
   "execution_count": null,
   "id": "e0bcf403",
   "metadata": {},
   "outputs": [],
   "source": [
    "True + False"
   ]
  },
  {
   "cell_type": "code",
   "execution_count": null,
   "id": "5a493dbb",
   "metadata": {},
   "outputs": [],
   "source": [
    "True - False"
   ]
  },
  {
   "cell_type": "code",
   "execution_count": null,
   "id": "a05746e1",
   "metadata": {},
   "outputs": [],
   "source": [
    "False + False"
   ]
  },
  {
   "cell_type": "code",
   "execution_count": null,
   "id": "f3b4d30d",
   "metadata": {},
   "outputs": [],
   "source": [
    "'10' is '10'"
   ]
  },
  {
   "cell_type": "code",
   "execution_count": null,
   "id": "e1758156",
   "metadata": {},
   "outputs": [],
   "source": [
    "10 == 11"
   ]
  },
  {
   "cell_type": "code",
   "execution_count": null,
   "id": "45d37b08",
   "metadata": {},
   "outputs": [],
   "source": [
    "10 == 10"
   ]
  },
  {
   "cell_type": "code",
   "execution_count": null,
   "id": "0ddf4a30",
   "metadata": {},
   "outputs": [],
   "source": [
    "True and False or True"
   ]
  },
  {
   "cell_type": "markdown",
   "id": "b570f17a",
   "metadata": {},
   "source": [
    "Key words and Data types/Structures"
   ]
  },
  {
   "cell_type": "markdown",
   "id": "6141a573",
   "metadata": {},
   "source": [
    "# Key words and Data Types/Structures"
   ]
  },
  {
   "cell_type": "markdown",
   "id": "c3dcb1ce",
   "metadata": {},
   "source": [
    "# How to check the key words"
   ]
  },
  {
   "cell_type": "markdown",
   "id": "9e0c4002",
   "metadata": {},
   "source": [
    "Key words and reserved words and can not be used as variable name"
   ]
  },
  {
   "cell_type": "code",
   "execution_count": null,
   "id": "8d3fa495",
   "metadata": {},
   "outputs": [],
   "source": [
    "import keyword\n",
    "\n",
    "print (keyword.kwlist)"
   ]
  },
  {
   "cell_type": "markdown",
   "id": "236fae50",
   "metadata": {},
   "source": [
    "# Data Types/Structures"
   ]
  },
  {
   "cell_type": "markdown",
   "id": "6dcf75a3",
   "metadata": {},
   "source": [
    "Numbers\n",
    "string\n",
    "list\n",
    "Tuple\n",
    "Set\n",
    "Dictionary"
   ]
  },
  {
   "cell_type": "markdown",
   "id": "b82568a5",
   "metadata": {},
   "source": [
    "# Numbers"
   ]
  },
  {
   "cell_type": "code",
   "execution_count": null,
   "id": "bc718f27",
   "metadata": {},
   "outputs": [],
   "source": [
    "# variable and data assaignment\n",
    "# a = variable\n",
    "# 20 = data\n",
    "\n",
    "a = 20\n",
    "\n"
   ]
  },
  {
   "cell_type": "code",
   "execution_count": null,
   "id": "a264a40f",
   "metadata": {},
   "outputs": [],
   "source": [
    "a"
   ]
  },
  {
   "cell_type": "code",
   "execution_count": null,
   "id": "a7b40029",
   "metadata": {},
   "outputs": [],
   "source": [
    "type(a)"
   ]
  },
  {
   "cell_type": "code",
   "execution_count": null,
   "id": "96004dff",
   "metadata": {},
   "outputs": [],
   "source": [
    "b = 20.0\n",
    "\n",
    "type(b)"
   ]
  },
  {
   "cell_type": "code",
   "execution_count": null,
   "id": "5acd459e",
   "metadata": {},
   "outputs": [],
   "source": [
    "c = 6+2j\n",
    "\n",
    "type(c)"
   ]
  },
  {
   "cell_type": "markdown",
   "id": "ccfed3ed",
   "metadata": {},
   "source": [
    "# String"
   ]
  },
  {
   "cell_type": "code",
   "execution_count": null,
   "id": "0742f8ba",
   "metadata": {},
   "outputs": [],
   "source": [
    "print (\"Hello World\")"
   ]
  },
  {
   "cell_type": "code",
   "execution_count": null,
   "id": "eaf885fd",
   "metadata": {},
   "outputs": [],
   "source": [
    "first_string = 'Python'\n",
    "second_string = ' is a powerful'\n",
    "third_string = ' Langauage'"
   ]
  },
  {
   "cell_type": "code",
   "execution_count": null,
   "id": "3ca8c52c",
   "metadata": {},
   "outputs": [],
   "source": [
    "print(first_string+second_string+third_string)"
   ]
  },
  {
   "cell_type": "code",
   "execution_count": null,
   "id": "eff02700",
   "metadata": {},
   "outputs": [],
   "source": [
    "type(first_string)"
   ]
  },
  {
   "cell_type": "code",
   "execution_count": null,
   "id": "e2ce1f26",
   "metadata": {},
   "outputs": [],
   "source": [
    "x = 123.0\n",
    "type(x)"
   ]
  },
  {
   "cell_type": "markdown",
   "id": "fbf10be0",
   "metadata": {},
   "source": [
    "## join both string and number and point"
   ]
  },
  {
   "cell_type": "code",
   "execution_count": null,
   "id": "e28ed1e5",
   "metadata": {},
   "outputs": [],
   "source": [
    "print ('Day' + 1)"
   ]
  },
  {
   "cell_type": "code",
   "execution_count": null,
   "id": "1ed26f4f",
   "metadata": {},
   "outputs": [],
   "source": [
    "print (int('Day') + 1)\n",
    "\n",
    "#print ('Day' + str(1))"
   ]
  },
  {
   "cell_type": "markdown",
   "id": "3bccc8db",
   "metadata": {},
   "source": [
    "string to intiger is not possible"
   ]
  },
  {
   "cell_type": "code",
   "execution_count": null,
   "id": "f02810b9",
   "metadata": {},
   "outputs": [],
   "source": [
    "print ('Day' + str(1))"
   ]
  },
  {
   "cell_type": "code",
   "execution_count": null,
   "id": "41267b70",
   "metadata": {},
   "outputs": [],
   "source": [
    "print('Day 2')"
   ]
  },
  {
   "cell_type": "markdown",
   "id": "b9d20941",
   "metadata": {},
   "source": [
    "# List"
   ]
  },
  {
   "cell_type": "markdown",
   "id": "ff2f4502",
   "metadata": {},
   "source": [
    "# Advanced Types = Containers"
   ]
  },
  {
   "cell_type": "markdown",
   "id": "af5c7c61",
   "metadata": {},
   "source": [
    "One of the great advantages of Python as a programming langauage is the ease with which it  allows you to manipulate containers. Containers(or collections) are an integral part of the language and, as you'll see,built in to the code of language syntax. As a result,thinking in a pythonic manner means thinking about containers."
   ]
  },
  {
   "cell_type": "markdown",
   "id": "4f3c837d",
   "metadata": {},
   "source": [
    "## Lists"
   ]
  },
  {
   "cell_type": "markdown",
   "id": "ec3ffa9f",
   "metadata": {},
   "source": [
    "The first container type that we will look at is the list.A list represents an ordered, mutable collection of objects. You can mix and match any type of object in a list,add to it and remove from it all"
   ]
  },
  {
   "cell_type": "markdown",
   "id": "cde9391f",
   "metadata": {},
   "source": [
    "Craeting Empty Lists. To create an empty list,you can use empty square brackets or use the list() function with no arguments."
   ]
  },
  {
   "cell_type": "code",
   "execution_count": 25,
   "id": "02ae8f81",
   "metadata": {},
   "outputs": [
    {
     "data": {
      "text/plain": [
       "[]"
      ]
     },
     "execution_count": 25,
     "metadata": {},
     "output_type": "execute_result"
    }
   ],
   "source": [
    "l= []\n",
    "l"
   ]
  },
  {
   "cell_type": "markdown",
   "id": "71f282b0",
   "metadata": {},
   "source": [
    "Initializing Lists.you can intilize a list with content of any sort using the same square bracket notation. The list() function also takes an iterable as a single argument and returns a shallow copy of that iterable as a new llist. A list is one such iterable as we'll see soon, ans we'll see others later."
   ]
  },
  {
   "cell_type": "code",
   "execution_count": 26,
   "id": "15f8652b",
   "metadata": {},
   "outputs": [
    {
     "data": {
      "text/plain": [
       "['a', 'b', 'c']"
      ]
     },
     "execution_count": 26,
     "metadata": {},
     "output_type": "execute_result"
    }
   ],
   "source": [
    "l = ['a','b','c']\n",
    "l"
   ]
  },
  {
   "cell_type": "code",
   "execution_count": 27,
   "id": "a646eb1c",
   "metadata": {},
   "outputs": [
    {
     "data": {
      "text/plain": [
       "['a', 6, 9.16]"
      ]
     },
     "execution_count": 27,
     "metadata": {},
     "output_type": "execute_result"
    }
   ],
   "source": [
    "l = ['a',6,9.16]\n",
    "l"
   ]
  },
  {
   "cell_type": "code",
   "execution_count": 29,
   "id": "0a9a0d22",
   "metadata": {},
   "outputs": [
    {
     "data": {
      "text/plain": [
       "['a', 6, 9.16]"
      ]
     },
     "execution_count": 29,
     "metadata": {},
     "output_type": "execute_result"
    }
   ],
   "source": [
    "# How to copy into other list\n",
    "l2 = list(l)\n",
    "l2"
   ]
  },
  {
   "cell_type": "code",
   "execution_count": 30,
   "id": "b3c23a97",
   "metadata": {},
   "outputs": [],
   "source": [
    "marks = [35,45,60,80,100]"
   ]
  },
  {
   "cell_type": "code",
   "execution_count": 31,
   "id": "90a3b6b7",
   "metadata": {},
   "outputs": [
    {
     "data": {
      "text/plain": [
       "[35, 45, 60, 80, 100]"
      ]
     },
     "execution_count": 31,
     "metadata": {},
     "output_type": "execute_result"
    }
   ],
   "source": [
    "marks"
   ]
  },
  {
   "cell_type": "code",
   "execution_count": 32,
   "id": "b01616b9",
   "metadata": {},
   "outputs": [],
   "source": [
    "copy_marks = list(marks)"
   ]
  },
  {
   "cell_type": "code",
   "execution_count": 33,
   "id": "caa5a04b",
   "metadata": {},
   "outputs": [
    {
     "data": {
      "text/plain": [
       "[35, 45, 60, 80, 100]"
      ]
     },
     "execution_count": 33,
     "metadata": {},
     "output_type": "execute_result"
    }
   ],
   "source": [
    "copy_marks"
   ]
  },
  {
   "cell_type": "markdown",
   "id": "ab51eb8d",
   "metadata": {},
   "source": [
    "A Python string is also a squence of characters and can be treated as an iterable over those charcters.Combined with the list()function, a new list of the charcters can easily be generated."
   ]
  },
  {
   "cell_type": "code",
   "execution_count": 34,
   "id": "373b7de8",
   "metadata": {},
   "outputs": [
    {
     "data": {
      "text/plain": [
       "['a', 'b', 'c', 'd', 'e', 'f']"
      ]
     },
     "execution_count": 34,
     "metadata": {},
     "output_type": "execute_result"
    }
   ],
   "source": [
    "list('abcdef')"
   ]
  },
  {
   "cell_type": "code",
   "execution_count": 35,
   "id": "979f6dd3",
   "metadata": {},
   "outputs": [
    {
     "ename": "TypeError",
     "evalue": "'int' object is not iterable",
     "output_type": "error",
     "traceback": [
      "\u001b[1;31m---------------------------------------------------------------------------\u001b[0m",
      "\u001b[1;31mTypeError\u001b[0m                                 Traceback (most recent call last)",
      "\u001b[1;32m<ipython-input-35-bab557a07a58>\u001b[0m in \u001b[0;36m<module>\u001b[1;34m\u001b[0m\n\u001b[1;32m----> 1\u001b[1;33m \u001b[0mlist\u001b[0m\u001b[1;33m(\u001b[0m\u001b[1;36m12345\u001b[0m\u001b[1;33m)\u001b[0m\u001b[1;33m\u001b[0m\u001b[1;33m\u001b[0m\u001b[0m\n\u001b[0m",
      "\u001b[1;31mTypeError\u001b[0m: 'int' object is not iterable"
     ]
    }
   ],
   "source": [
    "list(12345)"
   ]
  },
  {
   "cell_type": "markdown",
   "id": "e829ca5d",
   "metadata": {},
   "source": [
    "Adding.you can append to a list very easily (add to the end)or insert at an arbitary index"
   ]
  },
  {
   "cell_type": "markdown",
   "id": "7ade553f",
   "metadata": {},
   "source": [
    "### Auto drop down"
   ]
  },
  {
   "cell_type": "markdown",
   "id": "09406b99",
   "metadata": {},
   "source": [
    "!pip3 install jedi==0.17.2"
   ]
  },
  {
   "cell_type": "code",
   "execution_count": 37,
   "id": "5b20f77f",
   "metadata": {},
   "outputs": [
    {
     "name": "stdout",
     "output_type": "stream",
     "text": [
      "Requirement already satisfied: jedi==0.17.2 in c:\\programdata\\anaconda3\\lib\\site-packages (0.17.2)\n",
      "Requirement already satisfied: parso<0.8.0,>=0.7.0 in c:\\programdata\\anaconda3\\lib\\site-packages (from jedi==0.17.2) (0.7.0)\n"
     ]
    }
   ],
   "source": [
    "!pip3 install jedi==0.17.2"
   ]
  },
  {
   "cell_type": "markdown",
   "id": "3baed933",
   "metadata": {},
   "source": [
    "# append"
   ]
  },
  {
   "cell_type": "markdown",
   "id": "9df8ec1d",
   "metadata": {},
   "source": [
    "append is method"
   ]
  },
  {
   "cell_type": "code",
   "execution_count": 39,
   "id": "06ca587d",
   "metadata": {},
   "outputs": [
    {
     "name": "stdout",
     "output_type": "stream",
     "text": [
      "['Radha']\n"
     ]
    }
   ],
   "source": [
    "employee = []\n",
    "\n",
    "employee.append('Radha')\n",
    "\n",
    "print(employee)"
   ]
  },
  {
   "cell_type": "code",
   "execution_count": 40,
   "id": "4f418fed",
   "metadata": {},
   "outputs": [
    {
     "name": "stdout",
     "output_type": "stream",
     "text": [
      "['Radha', 'Ramesh', 'salman']\n"
     ]
    }
   ],
   "source": [
    "employee.append('Ramesh')\n",
    "employee.append('salman')\n",
    "print(employee)"
   ]
  },
  {
   "cell_type": "markdown",
   "id": "af6839f7",
   "metadata": {},
   "source": [
    "# Insert"
   ]
  },
  {
   "cell_type": "markdown",
   "id": "ddbee994",
   "metadata": {},
   "source": [
    "Two arguments can be placed in insert method"
   ]
  },
  {
   "cell_type": "markdown",
   "id": "05f3b405",
   "metadata": {},
   "source": [
    "Syntax:inser(index,object)"
   ]
  },
  {
   "cell_type": "markdown",
   "id": "02c74ea2",
   "metadata": {},
   "source": [
    "This method places the object at the index supplied.For example"
   ]
  },
  {
   "cell_type": "code",
   "execution_count": 41,
   "id": "978cbd6d",
   "metadata": {},
   "outputs": [
    {
     "data": {
      "text/plain": [
       "['Radha', 'd souza', 'Ramesh', 'salman']"
      ]
     },
     "execution_count": 41,
     "metadata": {},
     "output_type": "execute_result"
    }
   ],
   "source": [
    "# Use double inverted quotation if your string has quotation\n",
    "employee.insert(1,\"d souza\")\n",
    "employee"
   ]
  },
  {
   "cell_type": "code",
   "execution_count": 42,
   "id": "13a73dfd",
   "metadata": {},
   "outputs": [],
   "source": [
    "# One more example with numbers\n",
    "emp_salary = [15000,28000,19000]"
   ]
  },
  {
   "cell_type": "code",
   "execution_count": 43,
   "id": "d5f924ff",
   "metadata": {},
   "outputs": [
    {
     "data": {
      "text/plain": [
       "[15000, 40000, 28000, 19000]"
      ]
     },
     "execution_count": 43,
     "metadata": {},
     "output_type": "execute_result"
    }
   ],
   "source": [
    "emp_salary.insert(1,40000)\n",
    "emp_salary"
   ]
  },
  {
   "cell_type": "markdown",
   "id": "29e88e27",
   "metadata": {},
   "source": [
    "Iterating.Iterating over a list is very simple. All iterables in Python allow access to elements using the for... In this structure, each element in the iterable is sequentially assigned to the \"loop varaible\"for a single pass of the loop, during which the enclosed block is executed."
   ]
  },
  {
   "cell_type": "markdown",
   "id": "55b63505",
   "metadata": {},
   "source": [
    "### List Extended"
   ]
  },
  {
   "cell_type": "code",
   "execution_count": null,
   "id": "49db5434",
   "metadata": {},
   "outputs": [],
   "source": []
  }
 ],
 "metadata": {
  "kernelspec": {
   "display_name": "Python 3",
   "language": "python",
   "name": "python3"
  },
  "language_info": {
   "codemirror_mode": {
    "name": "ipython",
    "version": 3
   },
   "file_extension": ".py",
   "mimetype": "text/x-python",
   "name": "python",
   "nbconvert_exporter": "python",
   "pygments_lexer": "ipython3",
   "version": "3.8.8"
  }
 },
 "nbformat": 4,
 "nbformat_minor": 5
}
