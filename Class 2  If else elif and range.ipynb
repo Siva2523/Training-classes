{
 "cells": [
  {
   "cell_type": "markdown",
   "id": "8f053d7b",
   "metadata": {},
   "source": [
    "# Branching (if/elif/else)\n",
    "Python provides the is statements to allow branching based on conditions. Multiple elif checks can also be performed followed by an optional else clause.The if statement can be used with any evaluation of truthiness."
   ]
  },
  {
   "cell_type": "code",
   "execution_count": 1,
   "id": "5bb6a6fb",
   "metadata": {},
   "outputs": [
    {
     "name": "stdout",
     "output_type": "stream",
     "text": [
      "less than 15\n"
     ]
    }
   ],
   "source": [
    "i = 18\n",
    "\n",
    "\n",
    "if i < 13:\n",
    "    print('less than 13')\n",
    "    \n",
    "elif i > 15:\n",
    "    print('less than 15')\n",
    "    \n",
    "else:\n",
    "    print('15 or more')"
   ]
  },
  {
   "cell_type": "code",
   "execution_count": 2,
   "id": "689ba71e",
   "metadata": {},
   "outputs": [
    {
     "name": "stdout",
     "output_type": "stream",
     "text": [
      "It is not greater\n"
     ]
    }
   ],
   "source": [
    "i = 91\n",
    "j = 23\n",
    "if j > i :\n",
    "    print(\"It's working\")\n",
    "else:\n",
    "    print('It is not greater')\n",
    "   \n",
    "    "
   ]
  },
  {
   "cell_type": "code",
   "execution_count": 3,
   "id": "8b3dcc31",
   "metadata": {},
   "outputs": [
    {
     "name": "stdout",
     "output_type": "stream",
     "text": [
      "A\n"
     ]
    }
   ],
   "source": [
    "a = 276575\n",
    "\n",
    "b = 230000\n",
    "\n",
    "print(\"A\") if a > b else print(\"B\")"
   ]
  },
  {
   "cell_type": "code",
   "execution_count": 4,
   "id": "620715ae",
   "metadata": {},
   "outputs": [
    {
     "name": "stdout",
     "output_type": "stream",
     "text": [
      "B\n"
     ]
    }
   ],
   "source": [
    "a = 430\n",
    "\n",
    "b = 530\n",
    "\n",
    "print(\"A\") if a > b else print (\"it is eql\") if a ==b else print(\"B\")"
   ]
  },
  {
   "cell_type": "code",
   "execution_count": 5,
   "id": "da0568a1",
   "metadata": {},
   "outputs": [
    {
     "name": "stdout",
     "output_type": "stream",
     "text": [
      "Both conditions are True\n"
     ]
    }
   ],
   "source": [
    "a = 200\n",
    "\n",
    "b = 33\n",
    "\n",
    "c = 500\n",
    "\n",
    "if a > b and c > a:\n",
    "    print(\"Both conditions are True\")\n",
    "else:\n",
    "    print(\"At least one of the conditions is True\")"
   ]
  },
  {
   "cell_type": "code",
   "execution_count": 8,
   "id": "d9a5cc6b",
   "metadata": {},
   "outputs": [
    {
     "name": "stdout",
     "output_type": "stream",
     "text": [
      "At least one of the conditions is True\n"
     ]
    }
   ],
   "source": [
    "a = 200\n",
    "\n",
    "b = 33\n",
    "\n",
    "c = 500\n",
    "\n",
    "if a > b or c < a:\n",
    "    print(\"At least one of the conditions is True\")"
   ]
  },
  {
   "cell_type": "markdown",
   "id": "f1e02d29",
   "metadata": {},
   "source": [
    "### Find student level"
   ]
  },
  {
   "cell_type": "code",
   "execution_count": 13,
   "id": "0ea1f1cc",
   "metadata": {},
   "outputs": [
    {
     "name": "stdout",
     "output_type": "stream",
     "text": [
      "Fail - Better luck next time\n"
     ]
    }
   ],
   "source": [
    "marks = 34\n",
    "\n",
    "if marks > 60:\n",
    "    if marks > 70:\n",
    "        print ('Distinction')\n",
    "    else:\n",
    "        print ('First class')\n",
    "        \n",
    "elif marks > 50 and marks <= 60:\n",
    "    print('Second class')\n",
    "    \n",
    "elif marks >= 35:\n",
    "    print('Pass')\n",
    "    \n",
    "else:\n",
    "    print ('Fail - Better luck next time')"
   ]
  },
  {
   "cell_type": "code",
   "execution_count": 14,
   "id": "11cd025e",
   "metadata": {},
   "outputs": [
    {
     "name": "stdout",
     "output_type": "stream",
     "text": [
      "I am working\n"
     ]
    }
   ],
   "source": [
    "num1 = 20\n",
    "num2 = 30\n",
    "\n",
    "if num1 == '20':\n",
    "    print ('Shankar is wrong')\n",
    "    \n",
    "elif num2 > 25:\n",
    "    print ('I am working')"
   ]
  },
  {
   "cell_type": "markdown",
   "id": "71d52f17",
   "metadata": {},
   "source": [
    "# Loops\n",
    "\n",
    "In general, statements are executed sequentially:The first statement in a dunction is executed first, followed by the second and so on. There may be a situation when you need to execute a block of codes several number of times.\n",
    "    \n",
    "    Programming languages provide various control structures that allow for more complicated execution paths.\n",
    "    \n",
    "## For loop\n",
    "    \n",
    "    The for loop in python is used to iterate over a sequence (list,tuple,string) or other iterable objects. iterating over a sequence is called traversal.\n",
    "    \n",
    "    Loop continues until we reach the last item in the sequence. The body of loop is seperated from the rest of the code using indentation."
   ]
  },
  {
   "cell_type": "markdown",
   "id": "931153f9",
   "metadata": {},
   "source": []
  },
  {
   "cell_type": "code",
   "execution_count": 16,
   "id": "3083ef5f",
   "metadata": {},
   "outputs": [
    {
     "name": "stdout",
     "output_type": "stream",
     "text": [
      "['Benguluru', 'Noida', 'Chennai', 'Hyderabad', 'Delhi']\n"
     ]
    }
   ],
   "source": [
    "location = ['Benguluru','Noida','Chennai','Hyderabad','Delhi']\n",
    "print(location)"
   ]
  },
  {
   "cell_type": "code",
   "execution_count": 17,
   "id": "f812ec29",
   "metadata": {},
   "outputs": [
    {
     "name": "stdout",
     "output_type": "stream",
     "text": [
      "Benguluru\n",
      "Noida\n",
      "Chennai\n",
      "Hyderabad\n",
      "Delhi\n"
     ]
    }
   ],
   "source": [
    "# list of string\n",
    "location = ['Benguluru','Noida','Chennai','Hyderabad','Delhi']\n",
    "\n",
    "for i in location:\n",
    "    print(i)"
   ]
  },
  {
   "cell_type": "code",
   "execution_count": 18,
   "id": "fef64026",
   "metadata": {},
   "outputs": [
    {
     "name": "stdout",
     "output_type": "stream",
     "text": [
      "7000\n",
      "8000\n"
     ]
    }
   ],
   "source": [
    "salary = [2000, 4000, 5000, 7000, 8000, 4500, 3800]\n",
    "\n",
    "for val in salary:\n",
    "    if val > 5500:\n",
    "        print(val)"
   ]
  },
  {
   "cell_type": "code",
   "execution_count": 26,
   "id": "b7d31d44",
   "metadata": {},
   "outputs": [
    {
     "name": "stdout",
     "output_type": "stream",
     "text": [
      "Pass\n",
      "Pass\n",
      "Distinction\n",
      "Distinction\n",
      "Fail - Better luck next time\n",
      "Fail - Better luck next time\n",
      "First class\n",
      "Pass\n",
      "Pass\n"
     ]
    }
   ],
   "source": [
    "student_scores = [35,43,78,79,13,34,63,44,43]\n",
    "\n",
    "for marks in student_scores:\n",
    "    if marks > 60:\n",
    "        if marks > 70:\n",
    "            print ('Distinction')\n",
    "        else:\n",
    "            print ('First class')\n",
    "        \n",
    "    elif marks > 50 and marks <= 60:\n",
    "        print('Second class')\n",
    "    \n",
    "    elif marks >= 35:\n",
    "        print('Pass')\n",
    "    \n",
    "    else:\n",
    "        print ('Fail - Better luck next time')"
   ]
  },
  {
   "cell_type": "markdown",
   "id": "d5041f64",
   "metadata": {},
   "source": [
    "# List Comprehension"
   ]
  },
  {
   "cell_type": "markdown",
   "id": "9009eac6",
   "metadata": {},
   "source": [
    "List comprehension is a shorter syntax when you want to create a new list based on the values of an existing list."
   ]
  },
  {
   "cell_type": "code",
   "execution_count": 19,
   "id": "d22c4410",
   "metadata": {},
   "outputs": [
    {
     "data": {
      "text/plain": [
       "[7000, 8000]"
      ]
     },
     "execution_count": 19,
     "metadata": {},
     "output_type": "execute_result"
    }
   ],
   "source": [
    "sal = [val for val in salary if val > 5100]\n",
    "sal"
   ]
  },
  {
   "cell_type": "code",
   "execution_count": null,
   "id": "66407c51",
   "metadata": {},
   "outputs": [],
   "source": []
  },
  {
   "cell_type": "code",
   "execution_count": 27,
   "id": "9c3caa02",
   "metadata": {},
   "outputs": [
    {
     "name": "stdout",
     "output_type": "stream",
     "text": [
      "income till date => 100\n",
      "income till date => 250\n",
      "income till date => 350\n",
      "income till date => 550\n",
      "income till date => 700\n",
      "income till date => 900\n",
      "income till date => 1200\n",
      "The Total Weekly Income is === >> 1200\n"
     ]
    }
   ],
   "source": [
    "# List of numbers\n",
    "daily_sales = [100, 150, 100, 200, 150, 200, 300]\n",
    "\n",
    "# Varaible to store the sum\n",
    "income_till_date = 0\n",
    "\n",
    "# iterate over the list\n",
    "for val in daily_sales:\n",
    "    \n",
    "    income_till_date = income_till_date + val\n",
    "    print ('income till date =>',income_till_date)\n",
    "    \n",
    "# Total income\n",
    "print(\"The Total Weekly Income is === >>\", income_till_date)\n",
    "\n"
   ]
  },
  {
   "cell_type": "code",
   "execution_count": null,
   "id": "deda5fd4",
   "metadata": {},
   "outputs": [],
   "source": []
  },
  {
   "cell_type": "markdown",
   "id": "548725fc",
   "metadata": {},
   "source": [
    "### for loop with else\n",
    "\n",
    "A for loop can have an optional else book as well. The else part is executed if the items in the sequence used in for loop exhausts.\n",
    "\n",
    "brak statement can be used to stop a for loop. In such case, the else part is ignored.\n",
    "\n",
    "Hence, a for loop's else part runs if no break occurs.\n",
    "\n",
    "Here is an example ti illustrate this."
   ]
  },
  {
   "cell_type": "code",
   "execution_count": 28,
   "id": "10f114b2",
   "metadata": {},
   "outputs": [
    {
     "name": "stdout",
     "output_type": "stream",
     "text": [
      "15\n",
      "20\n",
      "30\n",
      "No Items Left.\n"
     ]
    }
   ],
   "source": [
    "digits = [15,20,30]\n",
    "\n",
    "for i in digits:\n",
    "    print(i)\n",
    "else:\n",
    "    print(\"No Items Left.\")"
   ]
  },
  {
   "cell_type": "markdown",
   "id": "d1b7dfe2",
   "metadata": {},
   "source": [
    "# While loop\n",
    "\n",
    "The while loop in python is used to ilterate over a block code as long as the test expression (condition) is true.\n",
    "\n",
    "We generally use this loop when we don't know beforehand, the number of times to iterate.\n",
    "\n",
    "In while loop, test expression is checked first. The body of the loop is enterd only if the test_expression evalvates to True. After one iteration,the test expression is checked again. This process continues until the test_expression evaluates to False.\n",
    "\n",
    "In Python,the body of the while loop is determined through indentation.\n",
    "\n",
    "Body starts with identation and the first unindented line marks the end.\n",
    "\n",
    "Python interprets any non-zero value as True. note and 0 are interpreted as False."
   ]
  },
  {
   "cell_type": "code",
   "execution_count": 31,
   "id": "ecdc3e31",
   "metadata": {},
   "outputs": [
    {
     "name": "stdout",
     "output_type": "stream",
     "text": [
      "1\n",
      "3\n",
      "6\n",
      "10\n",
      "15\n",
      "The sum is 15\n"
     ]
    }
   ],
   "source": [
    "n = 5\n",
    "\n",
    "# intialize sum and counter\n",
    "sum = 0\n",
    "\n",
    "i = 1\n",
    "\n",
    "while i <=n:\n",
    "    sum = sum + i\n",
    "    i = i+1 # update counter\n",
    "    print (sum)\n",
    "    \n",
    "#print the sum\n",
    "print(\"The sum is\", sum)"
   ]
  },
  {
   "cell_type": "markdown",
   "id": "80393fca",
   "metadata": {},
   "source": [
    "# Difference b/w For and While loop\n",
    "\n",
    "#for loop = if you know how many times you want to execute the code then use for loop.\n",
    "\n",
    "#While loop = if you dont know how many items you want to execute then use the while with condition. It means you will execute the code if the condition is true only\n",
    "\n"
   ]
  },
  {
   "cell_type": "markdown",
   "id": "b5f05917",
   "metadata": {},
   "source": [
    "# Break and Continue Statement\n",
    "\n",
    "In Python, break and continue statements can alter the flow of a normal loop.\n",
    "\n",
    "Loops iterate over a block of code until test expression is false, but sometimes we wish to terminate the current iteration or even the whole loop without checking test expression.\n",
    "\n",
    "The break and continue statements are used in these cases.\n",
    "\n",
    "# break\n",
    "\n",
    "The break statement terminates the loop containing it. Control of the program flows to the statement immediately after the body of the loop.\n",
    "\n",
    "If break statement is inside a nested loop(loop inside another loop), break will terminate the innermost loop.\n"
   ]
  },
  {
   "cell_type": "code",
   "execution_count": 32,
   "id": "606180e3",
   "metadata": {},
   "outputs": [
    {
     "name": "stdout",
     "output_type": "stream",
     "text": [
      "Benguluru\n",
      "Delhi\n",
      "Noida\n"
     ]
    }
   ],
   "source": [
    "# Use of break statement inside loop\n",
    "city = ['Benguluru','Delhi','Noida','Hyderabad','Mumbai']\n",
    "\n",
    "for val in city:\n",
    "    if val == \"Hyderabad\":\n",
    "        break\n",
    "    print(val)    "
   ]
  },
  {
   "cell_type": "code",
   "execution_count": 38,
   "id": "6622534f",
   "metadata": {},
   "outputs": [
    {
     "name": "stdout",
     "output_type": "stream",
     "text": [
      "2000\n",
      "3800\n",
      "4000\n",
      "4500\n"
     ]
    }
   ],
   "source": [
    "# As soon as condition satisfy loop will break and it will check most elements\n",
    "\n",
    "salary = [2000,3800,4000,4500,5000,7000,8000]\n",
    "\n",
    "for val in salary:\n",
    "    if val >= 4600:\n",
    "        break\n",
    "    print(val)"
   ]
  },
  {
   "cell_type": "markdown",
   "id": "106f032e",
   "metadata": {},
   "source": [
    "## Continue\n",
    "\n",
    "The continue statement is used to skip the rest of the code inside a loop for the current iteration only. Loop does not terminate but continues on with the next iteration."
   ]
  },
  {
   "cell_type": "code",
   "execution_count": 39,
   "id": "ecd27b4f",
   "metadata": {},
   "outputs": [
    {
     "name": "stdout",
     "output_type": "stream",
     "text": [
      "Benguluru\n",
      "Delhi\n",
      "Noida\n",
      "Mumbai\n"
     ]
    }
   ],
   "source": [
    "# program to show the use of continue statement inside loops\n",
    "city = ['Benguluru','Delhi','Noida','Hyderabad','Mumbai']\n",
    "\n",
    "for val in city:\n",
    "    if val == \"Hyderabad\":\n",
    "        continue\n",
    "    print(val)  "
   ]
  },
  {
   "cell_type": "code",
   "execution_count": 42,
   "id": "987a9e45",
   "metadata": {},
   "outputs": [
    {
     "name": "stdout",
     "output_type": "stream",
     "text": [
      "2000\n",
      "3800\n",
      "4000\n",
      "4500\n",
      "5000\n"
     ]
    }
   ],
   "source": [
    "salary = [2000,3800,4000,4500,5000,7000,8000]\n",
    "\n",
    "for val in salary:\n",
    "    if val > 5000:\n",
    "        continue\n",
    "    print(val)"
   ]
  },
  {
   "cell_type": "markdown",
   "id": "bf0a3310",
   "metadata": {},
   "source": [
    "# The range() function\n",
    "\n",
    "We can generate a sequence of numbers using range()function.range(10) will generate numbers from 0 to 9(10 numbers).\n",
    "\n",
    "We can also define the satrt, stop and step size as range(start,stop,step size).step size defaults to 1 if not provided.\n",
    "\n",
    "this function does not store all the values in memory,it would be inefficient. so it remembers the start ,stop,step size and generates the next number on the go.\n",
    "\n",
    "To force this function to output all the items, we can use the function list().\n",
    "\n",
    "The following example will clarify this."
   ]
  },
  {
   "cell_type": "code",
   "execution_count": 1,
   "id": "81947313",
   "metadata": {},
   "outputs": [
    {
     "name": "stdout",
     "output_type": "stream",
     "text": [
      "range(0, 10)\n"
     ]
    }
   ],
   "source": [
    "print(range(10))"
   ]
  },
  {
   "cell_type": "code",
   "execution_count": 2,
   "id": "0b227cdc",
   "metadata": {},
   "outputs": [
    {
     "name": "stdout",
     "output_type": "stream",
     "text": [
      "[0, 1, 2, 3, 4, 5, 6, 7, 8, 9]\n"
     ]
    }
   ],
   "source": [
    "print(list(range(10)))"
   ]
  },
  {
   "cell_type": "code",
   "execution_count": 8,
   "id": "8c22352c",
   "metadata": {},
   "outputs": [
    {
     "data": {
      "text/plain": [
       "[1, 2, 3, 4, 5, 6, 7]"
      ]
     },
     "execution_count": 8,
     "metadata": {},
     "output_type": "execute_result"
    }
   ],
   "source": [
    "roll_numbers = list(range(1,8))\n",
    "roll_numbers"
   ]
  },
  {
   "cell_type": "raw",
   "id": "0c25d54a",
   "metadata": {},
   "source": [
    "roll_numbers"
   ]
  },
  {
   "cell_type": "code",
   "execution_count": 10,
   "id": "042d647c",
   "metadata": {},
   "outputs": [
    {
     "data": {
      "text/plain": [
       "[0, 5, 10, 15, 20, 25]"
      ]
     },
     "execution_count": 10,
     "metadata": {},
     "output_type": "execute_result"
    }
   ],
   "source": [
    "step_size = list(range(0,26,5))\n",
    "step_size"
   ]
  },
  {
   "cell_type": "code",
   "execution_count": 6,
   "id": "51c0c979",
   "metadata": {},
   "outputs": [
    {
     "data": {
      "text/plain": [
       "[100,\n",
       " 200,\n",
       " 300,\n",
       " 400,\n",
       " 500,\n",
       " 600,\n",
       " 700,\n",
       " 800,\n",
       " 900,\n",
       " 1000,\n",
       " 1100,\n",
       " 1200,\n",
       " 1300,\n",
       " 1400,\n",
       " 1500]"
      ]
     },
     "execution_count": 6,
     "metadata": {},
     "output_type": "execute_result"
    }
   ],
   "source": [
    "incr_by_hund = list(range(100, 1600, 100))\n",
    "incr_by_hund"
   ]
  },
  {
   "cell_type": "code",
   "execution_count": 7,
   "id": "4e6c83c7",
   "metadata": {},
   "outputs": [
    {
     "data": {
      "text/plain": [
       "[1600,\n",
       " 1500,\n",
       " 1400,\n",
       " 1300,\n",
       " 1200,\n",
       " 1100,\n",
       " 1000,\n",
       " 900,\n",
       " 800,\n",
       " 700,\n",
       " 600,\n",
       " 500,\n",
       " 400,\n",
       " 300,\n",
       " 200]"
      ]
     },
     "execution_count": 7,
     "metadata": {},
     "output_type": "execute_result"
    }
   ],
   "source": [
    "reverse = list(range(1600, 100, -100))\n",
    "reverse"
   ]
  },
  {
   "cell_type": "code",
   "execution_count": null,
   "id": "2d986b84",
   "metadata": {},
   "outputs": [],
   "source": []
  }
 ],
 "metadata": {
  "kernelspec": {
   "display_name": "Python 3",
   "language": "python",
   "name": "python3"
  },
  "language_info": {
   "codemirror_mode": {
    "name": "ipython",
    "version": 3
   },
   "file_extension": ".py",
   "mimetype": "text/x-python",
   "name": "python",
   "nbconvert_exporter": "python",
   "pygments_lexer": "ipython3",
   "version": "3.8.8"
  }
 },
 "nbformat": 4,
 "nbformat_minor": 5
}
