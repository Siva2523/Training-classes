{
 "cells": [
  {
   "cell_type": "markdown",
   "id": "952215d0",
   "metadata": {},
   "source": [
    "## List Extended"
   ]
  },
  {
   "cell_type": "markdown",
   "id": "e8c9cae5",
   "metadata": {},
   "source": [
    "### Earlier while discussing introduction to strings we have introduced the concept of a sequence in python.In python,Lists can be considered as the most general version of a squence to th \"loop varaible\" for a single pass of the loop,during which enclosed back is executed."
   ]
  },
  {
   "cell_type": "markdown",
   "id": "1f11890a",
   "metadata": {},
   "source": [
    "### Lists are constructed with brackets [] and commas seperating every element in the list."
   ]
  },
  {
   "cell_type": "markdown",
   "id": "feaaf292",
   "metadata": {},
   "source": [
    "#### Lets go ahead and understand more methods"
   ]
  },
  {
   "cell_type": "code",
   "execution_count": 1,
   "id": "8dd2c88f",
   "metadata": {},
   "outputs": [
    {
     "ename": "NameError",
     "evalue": "name 'employee' is not defined",
     "output_type": "error",
     "traceback": [
      "\u001b[1;31m---------------------------------------------------------------------------\u001b[0m",
      "\u001b[1;31mNameError\u001b[0m                                 Traceback (most recent call last)",
      "\u001b[1;32m<ipython-input-1-ebf5198d7326>\u001b[0m in \u001b[0;36m<module>\u001b[1;34m\u001b[0m\n\u001b[1;32m----> 1\u001b[1;33m \u001b[0memployee\u001b[0m\u001b[1;33m\u001b[0m\u001b[1;33m\u001b[0m\u001b[0m\n\u001b[0m",
      "\u001b[1;31mNameError\u001b[0m: name 'employee' is not defined"
     ]
    }
   ],
   "source": []
  },
  {
   "cell_type": "code",
   "execution_count": 2,
   "id": "d4c04807",
   "metadata": {},
   "outputs": [
    {
     "name": "stdout",
     "output_type": "stream",
     "text": [
      "['Radha']\n"
     ]
    }
   ],
   "source": [
    "employee = []\n",
    "\n",
    "employee.append('Radha')\n",
    "\n",
    "print(employee)"
   ]
  },
  {
   "cell_type": "code",
   "execution_count": 3,
   "id": "fc32f3d6",
   "metadata": {},
   "outputs": [
    {
     "name": "stdout",
     "output_type": "stream",
     "text": [
      "['Radha', 'Ramesh', 'salman']\n"
     ]
    }
   ],
   "source": [
    "employee.append('Ramesh')\n",
    "employee.append('salman')\n",
    "print(employee)"
   ]
  },
  {
   "cell_type": "code",
   "execution_count": 4,
   "id": "c55c7ae7",
   "metadata": {},
   "outputs": [
    {
     "data": {
      "text/plain": [
       "['Radha', 'd souza', 'Ramesh', 'salman']"
      ]
     },
     "execution_count": 4,
     "metadata": {},
     "output_type": "execute_result"
    }
   ],
   "source": [
    "employee.insert(1,\"d souza\")\n",
    "employee"
   ]
  },
  {
   "cell_type": "code",
   "execution_count": 5,
   "id": "2e7257ce",
   "metadata": {},
   "outputs": [],
   "source": [
    "emp_salary = [15000,28000,19000]"
   ]
  },
  {
   "cell_type": "code",
   "execution_count": 6,
   "id": "073ae061",
   "metadata": {},
   "outputs": [
    {
     "data": {
      "text/plain": [
       "[15000, 40000, 28000, 19000]"
      ]
     },
     "execution_count": 6,
     "metadata": {},
     "output_type": "execute_result"
    }
   ],
   "source": [
    "emp_salary.insert(1,40000)\n",
    "emp_salary"
   ]
  },
  {
   "cell_type": "code",
   "execution_count": 7,
   "id": "ca0e1dd3",
   "metadata": {},
   "outputs": [
    {
     "data": {
      "text/plain": [
       "['Radha', 'd souza', 'Ramesh', 'salman']"
      ]
     },
     "execution_count": 7,
     "metadata": {},
     "output_type": "execute_result"
    }
   ],
   "source": [
    "employee"
   ]
  },
  {
   "cell_type": "code",
   "execution_count": 8,
   "id": "96e1e330",
   "metadata": {},
   "outputs": [
    {
     "data": {
      "text/plain": [
       "4"
      ]
     },
     "execution_count": 8,
     "metadata": {},
     "output_type": "execute_result"
    }
   ],
   "source": [
    "len(employee)"
   ]
  },
  {
   "cell_type": "markdown",
   "id": "f796a6ec",
   "metadata": {},
   "source": [
    "# Indexing and Slicing"
   ]
  },
  {
   "cell_type": "markdown",
   "id": "648765c7",
   "metadata": {},
   "source": [
    "### Indexing and Slicing of lists works just like in strings. Let's fetch element based on index."
   ]
  },
  {
   "cell_type": "code",
   "execution_count": 9,
   "id": "7253e13b",
   "metadata": {},
   "outputs": [
    {
     "data": {
      "text/plain": [
       "['Radha', 'd souza', 'Ramesh', 'salman']"
      ]
     },
     "execution_count": 9,
     "metadata": {},
     "output_type": "execute_result"
    }
   ],
   "source": [
    "employee"
   ]
  },
  {
   "cell_type": "code",
   "execution_count": 10,
   "id": "9bbdf8dd",
   "metadata": {},
   "outputs": [
    {
     "data": {
      "text/plain": [
       "'Ramesh'"
      ]
     },
     "execution_count": 10,
     "metadata": {},
     "output_type": "execute_result"
    }
   ],
   "source": [
    "# Grab element based on index\n",
    "employee[-2]"
   ]
  },
  {
   "cell_type": "code",
   "execution_count": 11,
   "id": "8ad44b41",
   "metadata": {},
   "outputs": [
    {
     "data": {
      "text/plain": [
       "['Radha', 'Remo', 'Ramesh', 'salman']"
      ]
     },
     "execution_count": 11,
     "metadata": {},
     "output_type": "execute_result"
    }
   ],
   "source": [
    "employee[1] = 'Remo'\n",
    "employee"
   ]
  },
  {
   "cell_type": "code",
   "execution_count": 12,
   "id": "f964bbe0",
   "metadata": {},
   "outputs": [
    {
     "data": {
      "text/plain": [
       "[15000, 40000, 28000, 19000]"
      ]
     },
     "execution_count": 12,
     "metadata": {},
     "output_type": "execute_result"
    }
   ],
   "source": [
    "emp_salary"
   ]
  },
  {
   "cell_type": "code",
   "execution_count": 13,
   "id": "fee4ed87",
   "metadata": {},
   "outputs": [],
   "source": [
    "# update the data based on index\n",
    "emp_salary[1] = 20000"
   ]
  },
  {
   "cell_type": "code",
   "execution_count": 14,
   "id": "219a00eb",
   "metadata": {},
   "outputs": [
    {
     "data": {
      "text/plain": [
       "[20000, 28000, 19000]"
      ]
     },
     "execution_count": 14,
     "metadata": {},
     "output_type": "execute_result"
    }
   ],
   "source": [
    "# Grab index 1 and everything past it\n",
    "emp_salary[1:]"
   ]
  },
  {
   "cell_type": "code",
   "execution_count": 15,
   "id": "7581953f",
   "metadata": {},
   "outputs": [
    {
     "data": {
      "text/plain": [
       "[15000, 20000, 28000]"
      ]
     },
     "execution_count": 15,
     "metadata": {},
     "output_type": "execute_result"
    }
   ],
   "source": [
    "# Grab everything UP To index 2\n",
    "emp_salary[: 3]"
   ]
  },
  {
   "cell_type": "code",
   "execution_count": 17,
   "id": "c2ba7099",
   "metadata": {},
   "outputs": [
    {
     "data": {
      "text/plain": [
       "[20000, 28000]"
      ]
     },
     "execution_count": 17,
     "metadata": {},
     "output_type": "execute_result"
    }
   ],
   "source": [
    "emp_salary[1:3]"
   ]
  },
  {
   "cell_type": "markdown",
   "id": "a82b9319",
   "metadata": {},
   "source": [
    "#### We can also use \"+\" to concentrate lists,just like we did strings."
   ]
  },
  {
   "cell_type": "code",
   "execution_count": 16,
   "id": "1e341a8c",
   "metadata": {},
   "outputs": [
    {
     "data": {
      "text/plain": [
       "[15000, 20000, 28000, 19000, 25000]"
      ]
     },
     "execution_count": 16,
     "metadata": {},
     "output_type": "execute_result"
    }
   ],
   "source": [
    "emp_salary + [25000]"
   ]
  },
  {
   "cell_type": "code",
   "execution_count": 18,
   "id": "707496fb",
   "metadata": {},
   "outputs": [
    {
     "data": {
      "text/plain": [
       "[15000, 20000, 28000, 19000]"
      ]
     },
     "execution_count": 18,
     "metadata": {},
     "output_type": "execute_result"
    }
   ],
   "source": [
    "emp_salary"
   ]
  },
  {
   "cell_type": "markdown",
   "id": "434a708b",
   "metadata": {},
   "source": [
    "#### Note: This doesn't actually change the orginal list!\n",
    "\n",
    "### In this case, you have to reassign the list to make the permenant change."
   ]
  },
  {
   "cell_type": "code",
   "execution_count": 19,
   "id": "0c1bcd37",
   "metadata": {},
   "outputs": [],
   "source": [
    "# Reassign to keep the dat permenantly\n",
    "emp_salary = emp_salary + [25000]"
   ]
  },
  {
   "cell_type": "code",
   "execution_count": 20,
   "id": "8776a0e8",
   "metadata": {},
   "outputs": [
    {
     "data": {
      "text/plain": [
       "[15000, 20000, 28000, 19000, 25000]"
      ]
     },
     "execution_count": 20,
     "metadata": {},
     "output_type": "execute_result"
    }
   ],
   "source": [
    "emp_salary"
   ]
  },
  {
   "cell_type": "markdown",
   "id": "299c3c5d",
   "metadata": {},
   "source": [
    "## We can also use the * for a duplication method similar to strings"
   ]
  },
  {
   "cell_type": "code",
   "execution_count": 21,
   "id": "c860f5be",
   "metadata": {},
   "outputs": [
    {
     "data": {
      "text/plain": [
       "[15000, 20000, 28000, 19000, 25000, 15000, 20000, 28000, 19000, 25000]"
      ]
     },
     "execution_count": 21,
     "metadata": {},
     "output_type": "execute_result"
    }
   ],
   "source": [
    "# Make the list double\n",
    "emp_salary * 2"
   ]
  },
  {
   "cell_type": "markdown",
   "id": "e6452da2",
   "metadata": {},
   "source": [
    "print ('*' * 100)\n",
    "print ('        Data Trained      ')\n",
    "print ('=' * 100)"
   ]
  },
  {
   "cell_type": "code",
   "execution_count": 23,
   "id": "e6033750",
   "metadata": {},
   "outputs": [
    {
     "data": {
      "text/plain": [
       "[15000, 20000, 28000, 19000, 25000]"
      ]
     },
     "execution_count": 23,
     "metadata": {},
     "output_type": "execute_result"
    }
   ],
   "source": [
    "# Again doubling not permenant\n",
    "emp_salary"
   ]
  },
  {
   "cell_type": "markdown",
   "id": "9184a40d",
   "metadata": {},
   "source": [
    "# Advanced lists"
   ]
  },
  {
   "cell_type": "markdown",
   "id": "f1f54757",
   "metadata": {},
   "source": [
    "#In this serie of lectures, we will be driving a little deeper into all the available methods in a list object. These are just methods that should encountered without some additional exploring. Its pretty likely that you've already encountered some of these yourself."
   ]
  },
  {
   "cell_type": "markdown",
   "id": "8257254a",
   "metadata": {},
   "source": [
    "#Lets begin!"
   ]
  },
  {
   "cell_type": "markdown",
   "id": "bc706ade",
   "metadata": {},
   "source": [
    "# Count\n",
    "#We discussed this during the methods lectures, but here is it again() takes in an element and returns the number of times it occures in yor list:"
   ]
  },
  {
   "cell_type": "code",
   "execution_count": 27,
   "id": "dfdae224",
   "metadata": {},
   "outputs": [],
   "source": [
    "marks = [25,38,49,55,38,26,47,55,60,74,88,38]"
   ]
  },
  {
   "cell_type": "code",
   "execution_count": 28,
   "id": "9d2bb88f",
   "metadata": {},
   "outputs": [
    {
     "data": {
      "text/plain": [
       "3"
      ]
     },
     "execution_count": 28,
     "metadata": {},
     "output_type": "execute_result"
    }
   ],
   "source": [
    "marks.count(38)"
   ]
  },
  {
   "cell_type": "markdown",
   "id": "70fe0b71",
   "metadata": {},
   "source": [
    "# Index\n",
    "#index returns the element placed as an argument. Make a note that if the element is not in the list yhen it returns an error."
   ]
  },
  {
   "cell_type": "code",
   "execution_count": 29,
   "id": "4177ad76",
   "metadata": {},
   "outputs": [
    {
     "data": {
      "text/plain": [
       "[25, 38, 49, 55, 38, 26, 47, 55, 60, 74, 88, 38]"
      ]
     },
     "execution_count": 29,
     "metadata": {},
     "output_type": "execute_result"
    }
   ],
   "source": [
    "marks"
   ]
  },
  {
   "cell_type": "code",
   "execution_count": 30,
   "id": "a6c255ff",
   "metadata": {},
   "outputs": [
    {
     "data": {
      "text/plain": [
       "3"
      ]
     },
     "execution_count": 30,
     "metadata": {},
     "output_type": "execute_result"
    }
   ],
   "source": [
    "marks.index(55)"
   ]
  },
  {
   "cell_type": "markdown",
   "id": "c9bdf369",
   "metadata": {},
   "source": [
    "# extend\n",
    "#Many times people find the difference between extend and append to be unclear. So not that.\n",
    "#### append:Appends object at end."
   ]
  },
  {
   "cell_type": "code",
   "execution_count": 31,
   "id": "1f4601b5",
   "metadata": {},
   "outputs": [
    {
     "data": {
      "text/plain": [
       "['Radha', 'Remo', 'Ramesh', 'salman']"
      ]
     },
     "execution_count": 31,
     "metadata": {},
     "output_type": "execute_result"
    }
   ],
   "source": [
    "employee"
   ]
  },
  {
   "cell_type": "code",
   "execution_count": 32,
   "id": "0a5728ca",
   "metadata": {},
   "outputs": [
    {
     "name": "stdout",
     "output_type": "stream",
     "text": [
      "['Radha', 'Remo', 'Ramesh', 'salman', ['Anu', 'Sapna']]\n"
     ]
    }
   ],
   "source": [
    "employee.append(['Anu','Sapna'])\n",
    "print(employee)"
   ]
  },
  {
   "cell_type": "markdown",
   "id": "a5dfef7a",
   "metadata": {},
   "source": [
    "#### extend: extends list by appending elements from the iterable"
   ]
  },
  {
   "cell_type": "code",
   "execution_count": 34,
   "id": "f34d8240",
   "metadata": {},
   "outputs": [
    {
     "name": "stdout",
     "output_type": "stream",
     "text": [
      "['Radha', 'Remo', 'Ramesh', 'Salman', 'Anu', 'Sapna']\n"
     ]
    }
   ],
   "source": [
    "employee = ['Radha','Remo','Ramesh','Salman']\n",
    "\n",
    "employee.extend(['Anu', 'Sapna'])\n",
    "print(employee)"
   ]
  },
  {
   "cell_type": "markdown",
   "id": "a9e41337",
   "metadata": {},
   "source": [
    "#### Similarly you can add integer data as well. Concept is same for any type data"
   ]
  },
  {
   "cell_type": "markdown",
   "id": "10092dba",
   "metadata": {},
   "source": [
    "# pop"
   ]
  },
  {
   "cell_type": "markdown",
   "id": "15c39d17",
   "metadata": {},
   "source": [
    "### you must likely have already seen pop(), which allows to \"pop\" off the last element of a list."
   ]
  },
  {
   "cell_type": "code",
   "execution_count": 35,
   "id": "4bb7c2cc",
   "metadata": {},
   "outputs": [],
   "source": [
    "students = ['Raj','Ram','Abid','Nancy','Fatima']"
   ]
  },
  {
   "cell_type": "code",
   "execution_count": 36,
   "id": "fd15701f",
   "metadata": {},
   "outputs": [
    {
     "data": {
      "text/plain": [
       "['Raj', 'Ram', 'Abid', 'Nancy', 'Fatima']"
      ]
     },
     "execution_count": 36,
     "metadata": {},
     "output_type": "execute_result"
    }
   ],
   "source": [
    "students"
   ]
  },
  {
   "cell_type": "code",
   "execution_count": 37,
   "id": "345f3fcd",
   "metadata": {},
   "outputs": [],
   "source": [
    "# Delets last element\n",
    "pop_last = students.pop()"
   ]
  },
  {
   "cell_type": "code",
   "execution_count": 38,
   "id": "8b619658",
   "metadata": {},
   "outputs": [
    {
     "data": {
      "text/plain": [
       "'Fatima'"
      ]
     },
     "execution_count": 38,
     "metadata": {},
     "output_type": "execute_result"
    }
   ],
   "source": [
    "pop_last"
   ]
  },
  {
   "cell_type": "code",
   "execution_count": 39,
   "id": "a21ba289",
   "metadata": {},
   "outputs": [
    {
     "data": {
      "text/plain": [
       "['Raj', 'Ram', 'Abid', 'Nancy']"
      ]
     },
     "execution_count": 39,
     "metadata": {},
     "output_type": "execute_result"
    }
   ],
   "source": [
    "students"
   ]
  },
  {
   "cell_type": "code",
   "execution_count": 40,
   "id": "05f318a4",
   "metadata": {},
   "outputs": [],
   "source": [
    "students = ['Raj','Ram','Abid','Nancy','Fatima']"
   ]
  },
  {
   "cell_type": "code",
   "execution_count": 41,
   "id": "b5b16846",
   "metadata": {},
   "outputs": [
    {
     "data": {
      "text/plain": [
       "'Ram'"
      ]
     },
     "execution_count": 41,
     "metadata": {},
     "output_type": "execute_result"
    }
   ],
   "source": [
    "# Delete based on index position\n",
    "pop_index = students.pop(1)\n",
    "pop_index"
   ]
  },
  {
   "cell_type": "code",
   "execution_count": 42,
   "id": "9be985d1",
   "metadata": {},
   "outputs": [
    {
     "data": {
      "text/plain": [
       "['Raj', 'Abid', 'Nancy', 'Fatima']"
      ]
     },
     "execution_count": 42,
     "metadata": {},
     "output_type": "execute_result"
    }
   ],
   "source": [
    "students"
   ]
  },
  {
   "cell_type": "markdown",
   "id": "567b7eef",
   "metadata": {},
   "source": [
    "# remove"
   ]
  },
  {
   "cell_type": "markdown",
   "id": "91a33709",
   "metadata": {},
   "source": [
    "### The remove()method remove the first occurence of a value.For Example:"
   ]
  },
  {
   "cell_type": "code",
   "execution_count": 44,
   "id": "d7792620",
   "metadata": {},
   "outputs": [],
   "source": [
    "roll_numbers = [100,101,102,103,104,103]"
   ]
  },
  {
   "cell_type": "code",
   "execution_count": 45,
   "id": "6069d2de",
   "metadata": {},
   "outputs": [],
   "source": [
    "# Delte data.(if there are duplicates, first element is deleted)\n",
    "roll_numbers.remove(100)"
   ]
  },
  {
   "cell_type": "code",
   "execution_count": 46,
   "id": "98fae72e",
   "metadata": {},
   "outputs": [
    {
     "name": "stdout",
     "output_type": "stream",
     "text": [
      "[101, 102, 103, 104, 103]\n"
     ]
    }
   ],
   "source": [
    "print (roll_numbers)"
   ]
  },
  {
   "cell_type": "markdown",
   "id": "7ae3c9de",
   "metadata": {},
   "source": [
    "#### if there are more than a 2 duplicates,we can remove using 'set'. we will learn in the next chapter"
   ]
  },
  {
   "cell_type": "markdown",
   "id": "a32489a4",
   "metadata": {},
   "source": [
    "# reverse"
   ]
  },
  {
   "cell_type": "markdown",
   "id": "090d9763",
   "metadata": {},
   "source": [
    "#As the name suggests,reverse()helps you to reverse a list.Note this occurs in place! meaning it effects your list permenently."
   ]
  },
  {
   "cell_type": "code",
   "execution_count": 47,
   "id": "f78cc600",
   "metadata": {},
   "outputs": [],
   "source": [
    "lst = [1,2,3,4,3]"
   ]
  },
  {
   "cell_type": "code",
   "execution_count": 48,
   "id": "52ee94fe",
   "metadata": {},
   "outputs": [],
   "source": [
    "lst.reverse()"
   ]
  },
  {
   "cell_type": "code",
   "execution_count": 49,
   "id": "b57c30fa",
   "metadata": {},
   "outputs": [
    {
     "data": {
      "text/plain": [
       "[3, 4, 3, 2, 1]"
      ]
     },
     "execution_count": 49,
     "metadata": {},
     "output_type": "execute_result"
    }
   ],
   "source": [
    "lst"
   ]
  },
  {
   "cell_type": "markdown",
   "id": "b60277a8",
   "metadata": {},
   "source": [
    "# Sort\n",
    " sort will sort your list place:"
   ]
  },
  {
   "cell_type": "code",
   "execution_count": 50,
   "id": "22a41e3a",
   "metadata": {},
   "outputs": [
    {
     "data": {
      "text/plain": [
       "[25, 38, 49, 55, 38, 26, 47, 55, 60, 74, 88, 38]"
      ]
     },
     "execution_count": 50,
     "metadata": {},
     "output_type": "execute_result"
    }
   ],
   "source": [
    "marks = [25,38,49,55,38,26,47,55,60,74,88,38]\n",
    "marks"
   ]
  },
  {
   "cell_type": "code",
   "execution_count": 51,
   "id": "3ea6cf97",
   "metadata": {},
   "outputs": [
    {
     "name": "stdout",
     "output_type": "stream",
     "text": [
      "[25, 26, 38, 38, 38, 47, 49, 55, 55, 60, 74, 88]\n"
     ]
    }
   ],
   "source": [
    "# By default sorts in ascending order \n",
    "\n",
    "marks.sort()\n",
    "print (marks)"
   ]
  },
  {
   "cell_type": "code",
   "execution_count": 52,
   "id": "b2ea94d6",
   "metadata": {},
   "outputs": [
    {
     "name": "stdout",
     "output_type": "stream",
     "text": [
      "[88, 74, 60, 55, 55, 49, 47, 38, 38, 38, 26, 25]\n"
     ]
    }
   ],
   "source": [
    "# Sort in descending order\n",
    "\n",
    "marks.sort(reverse=True)\n",
    "\n",
    "print (marks)"
   ]
  },
  {
   "cell_type": "markdown",
   "id": "7c5f846a",
   "metadata": {},
   "source": [
    "# Tuples\n",
    "\n",
    "In Python , tuples are similar to lists but they are immutable i.e. they cannot be changed . You would use the tuples to presnt data that shouldnt be changed such as days of week or dates on a calendar.\n",
    "\n",
    "In this section, we will get a brief overview of the following key topics.\n",
    "\n",
    "1.) Constructing Tuples.\n",
    "2.) Basic Tuple Methods.\n",
    "3.) Immutability\n",
    "4.) When to use Tuples.\n",
    "\n",
    "You'll have an intuition of how to use tiples based on what you've learned about lists. But, Tuple work very similarly to lists but the major difference is tuples are immutable."
   ]
  },
  {
   "cell_type": "markdown",
   "id": "9bbcf239",
   "metadata": {},
   "source": [
    "# Constructing Tuples\n",
    "\n",
    "The construction of tuples use() wiyh elements seperated by comments where in the arguments will be passed within brackets. For example."
   ]
  },
  {
   "cell_type": "code",
   "execution_count": 54,
   "id": "91334075",
   "metadata": {},
   "outputs": [
    {
     "data": {
      "text/plain": [
       "('Benguluru', 'Noida', 'Chennai', 'Delhi')"
      ]
     },
     "execution_count": 54,
     "metadata": {},
     "output_type": "execute_result"
    }
   ],
   "source": [
    "# Can create a tuple with mixed types\n",
    "Work_location = ('Benguluru','Noida','Chennai','Delhi')\n",
    "Work_location"
   ]
  },
  {
   "cell_type": "code",
   "execution_count": 55,
   "id": "5ead4773",
   "metadata": {},
   "outputs": [
    {
     "data": {
      "text/plain": [
       "tuple"
      ]
     },
     "execution_count": 55,
     "metadata": {},
     "output_type": "execute_result"
    }
   ],
   "source": [
    "type(Work_location)"
   ]
  },
  {
   "cell_type": "markdown",
   "id": "3c7657e5",
   "metadata": {},
   "source": [
    "### Lets try to add new work location"
   ]
  },
  {
   "cell_type": "code",
   "execution_count": 57,
   "id": "1dba14d2",
   "metadata": {},
   "outputs": [
    {
     "ename": "AttributeError",
     "evalue": "'tuple' object has no attribute 'append'",
     "output_type": "error",
     "traceback": [
      "\u001b[1;31m---------------------------------------------------------------------------\u001b[0m",
      "\u001b[1;31mAttributeError\u001b[0m                            Traceback (most recent call last)",
      "\u001b[1;32m<ipython-input-57-5b8b9e5a3a1b>\u001b[0m in \u001b[0;36m<module>\u001b[1;34m\u001b[0m\n\u001b[1;32m----> 1\u001b[1;33m \u001b[0mWork_location\u001b[0m\u001b[1;33m.\u001b[0m\u001b[0mappend\u001b[0m\u001b[1;33m(\u001b[0m\u001b[1;34m'Hyderabad'\u001b[0m\u001b[1;33m)\u001b[0m\u001b[1;33m\u001b[0m\u001b[1;33m\u001b[0m\u001b[0m\n\u001b[0m",
      "\u001b[1;31mAttributeError\u001b[0m: 'tuple' object has no attribute 'append'"
     ]
    }
   ],
   "source": [
    "Work_location.append('Hyderabad')"
   ]
  },
  {
   "cell_type": "markdown",
   "id": "40bc439d",
   "metadata": {},
   "source": [
    "# Not possible as it is immutable\n",
    "\n",
    "But how do I add it?\n",
    "\n",
    "Yes, we can convert tuple into list and change the data as per our wish."
   ]
  },
  {
   "cell_type": "code",
   "execution_count": 58,
   "id": "400e0a80",
   "metadata": {},
   "outputs": [
    {
     "data": {
      "text/plain": [
       "['Benguluru', 'Noida', 'Chennai', 'Delhi']"
      ]
     },
     "execution_count": 58,
     "metadata": {},
     "output_type": "execute_result"
    }
   ],
   "source": [
    "# Convert into list and ressign or you can store in new varaible as per the need \n",
    "Work_location = list(Work_location)\n",
    "Work_location"
   ]
  },
  {
   "cell_type": "code",
   "execution_count": 59,
   "id": "0bf6132b",
   "metadata": {},
   "outputs": [
    {
     "data": {
      "text/plain": [
       "list"
      ]
     },
     "execution_count": 59,
     "metadata": {},
     "output_type": "execute_result"
    }
   ],
   "source": [
    "type(Work_location)"
   ]
  },
  {
   "cell_type": "code",
   "execution_count": 60,
   "id": "482fe8bf",
   "metadata": {},
   "outputs": [
    {
     "data": {
      "text/plain": [
       "['Benguluru', 'Noida', 'Chennai', 'Delhi', 'Hyderabad']"
      ]
     },
     "execution_count": 60,
     "metadata": {},
     "output_type": "execute_result"
    }
   ],
   "source": [
    "# Change the data\n",
    "Work_location.append('Hyderabad')\n",
    "Work_location"
   ]
  },
  {
   "cell_type": "code",
   "execution_count": 62,
   "id": "bd0a7de4",
   "metadata": {},
   "outputs": [
    {
     "data": {
      "text/plain": [
       "['Benguluru', 'Kolkata', 'Chennai', 'Delhi', 'Hyderabad', 'Kolkata']"
      ]
     },
     "execution_count": 62,
     "metadata": {},
     "output_type": "execute_result"
    }
   ],
   "source": [
    "Work_location[1] = 'Kolkata'\n",
    "Work_location"
   ]
  },
  {
   "cell_type": "code",
   "execution_count": 66,
   "id": "7b44185f",
   "metadata": {},
   "outputs": [],
   "source": [
    "#convert into tuple\n",
    "Work_location = tuple(Work_location)"
   ]
  },
  {
   "cell_type": "code",
   "execution_count": 65,
   "id": "e13c3120",
   "metadata": {},
   "outputs": [
    {
     "data": {
      "text/plain": [
       "6"
      ]
     },
     "execution_count": 65,
     "metadata": {},
     "output_type": "execute_result"
    }
   ],
   "source": [
    "# check len just like a list\n",
    "len(Work_location)"
   ]
  },
  {
   "cell_type": "markdown",
   "id": "f8d4e1eb",
   "metadata": {},
   "source": [
    "# Similarly you can work with numbers as well. No change in the concept"
   ]
  },
  {
   "cell_type": "code",
   "execution_count": 67,
   "id": "a0e99dc9",
   "metadata": {},
   "outputs": [
    {
     "data": {
      "text/plain": [
       "('Benguluru', 'Kolkata', 'Chennai', 'Delhi', 'Hyderabad', 'Kolkata')"
      ]
     },
     "execution_count": 67,
     "metadata": {},
     "output_type": "execute_result"
    }
   ],
   "source": [
    "Work_location"
   ]
  },
  {
   "cell_type": "code",
   "execution_count": 68,
   "id": "060f5cc3",
   "metadata": {},
   "outputs": [
    {
     "data": {
      "text/plain": [
       "'Kolkata'"
      ]
     },
     "execution_count": 68,
     "metadata": {},
     "output_type": "execute_result"
    }
   ],
   "source": [
    "# use indexing just like we didd in lists\n",
    "Work_location[1]"
   ]
  },
  {
   "cell_type": "code",
   "execution_count": 69,
   "id": "b7ac7fc4",
   "metadata": {},
   "outputs": [
    {
     "data": {
      "text/plain": [
       "'Hyderabad'"
      ]
     },
     "execution_count": 69,
     "metadata": {},
     "output_type": "execute_result"
    }
   ],
   "source": [
    "# Slicing just like a list\n",
    "Work_location[-2]"
   ]
  },
  {
   "cell_type": "markdown",
   "id": "27872be1",
   "metadata": {},
   "source": [
    "# Basic tuple methods\n",
    "\n",
    "Tuples have built-in methods, but not as many as lists do. Let's see two samples of tuple built-in methods."
   ]
  },
  {
   "cell_type": "code",
   "execution_count": 70,
   "id": "dd443e84",
   "metadata": {},
   "outputs": [
    {
     "data": {
      "text/plain": [
       "(25, 50, 88, 90, 50)"
      ]
     },
     "execution_count": 70,
     "metadata": {},
     "output_type": "execute_result"
    }
   ],
   "source": [
    "numbers = (25,50,88,90,50)\n",
    "numbers"
   ]
  },
  {
   "cell_type": "code",
   "execution_count": 71,
   "id": "cc77d57a",
   "metadata": {},
   "outputs": [
    {
     "data": {
      "text/plain": [
       "1"
      ]
     },
     "execution_count": 71,
     "metadata": {},
     "output_type": "execute_result"
    }
   ],
   "source": [
    "# use .index to enter a value and return the index.\n",
    "numbers.index(50)"
   ]
  },
  {
   "cell_type": "code",
   "execution_count": 72,
   "id": "3a97bdf2",
   "metadata": {},
   "outputs": [
    {
     "data": {
      "text/plain": [
       "2"
      ]
     },
     "execution_count": 72,
     "metadata": {},
     "output_type": "execute_result"
    }
   ],
   "source": [
    "# use.count to count the number of times a value appears\n",
    "numbers.count(50)"
   ]
  },
  {
   "cell_type": "markdown",
   "id": "8f886b65",
   "metadata": {},
   "source": [
    "# Sets\n",
    "\n",
    "Sets are an unorderd collection of unique elements which can be constructed using the set() function.\n",
    "\n",
    "Let's go ahead and create a set to see how it works."
   ]
  },
  {
   "cell_type": "code",
   "execution_count": 74,
   "id": "b7b97dd3",
   "metadata": {},
   "outputs": [],
   "source": [
    "roll_numbers = set()"
   ]
  },
  {
   "cell_type": "code",
   "execution_count": 75,
   "id": "7ec63edc",
   "metadata": {},
   "outputs": [
    {
     "data": {
      "text/plain": [
       "set"
      ]
     },
     "execution_count": 75,
     "metadata": {},
     "output_type": "execute_result"
    }
   ],
   "source": [
    "# show\n",
    "type(roll_numbers)"
   ]
  },
  {
   "cell_type": "code",
   "execution_count": 76,
   "id": "3f3cb725",
   "metadata": {},
   "outputs": [],
   "source": [
    "#We add to sets with the add ()method\n",
    "roll_numbers.add(1)"
   ]
  },
  {
   "cell_type": "code",
   "execution_count": 77,
   "id": "a483b2fd",
   "metadata": {},
   "outputs": [
    {
     "data": {
      "text/plain": [
       "{1}"
      ]
     },
     "execution_count": 77,
     "metadata": {},
     "output_type": "execute_result"
    }
   ],
   "source": [
    "roll_numbers"
   ]
  },
  {
   "cell_type": "markdown",
   "id": "1cacf043",
   "metadata": {},
   "source": [
    "Note that the curly brackets do not indiacte a dictionary! Using only keys, can draw anologies as a set begining a dictionary.\n",
    "\n",
    "We know that a sethas only unique entry.Now let see what happens when we tryto add something  more that is already present in a set?"
   ]
  },
  {
   "cell_type": "code",
   "execution_count": 79,
   "id": "4bf4dd90",
   "metadata": {},
   "outputs": [],
   "source": [
    "# Add a different element\n",
    "roll_numbers.add(2)"
   ]
  },
  {
   "cell_type": "code",
   "execution_count": 80,
   "id": "9abdd4c7",
   "metadata": {},
   "outputs": [
    {
     "data": {
      "text/plain": [
       "{1, 2}"
      ]
     },
     "execution_count": 80,
     "metadata": {},
     "output_type": "execute_result"
    }
   ],
   "source": [
    "#Show\n",
    "roll_numbers"
   ]
  },
  {
   "cell_type": "markdown",
   "id": "875f6d99",
   "metadata": {},
   "source": [
    "Notice,how it won't place another 1 there as a set is only concerned with unique elements! However, We can cast a list with multiple repeat elements the set to get the unique elements. For example :"
   ]
  },
  {
   "cell_type": "code",
   "execution_count": 1,
   "id": "911f6db5",
   "metadata": {},
   "outputs": [],
   "source": [
    "# Create a list with repeats\n",
    "remove_dups = [8,5,6,9,1,1,2,2,3,4,5,6,1,1]"
   ]
  },
  {
   "cell_type": "code",
   "execution_count": 2,
   "id": "70054e90",
   "metadata": {},
   "outputs": [
    {
     "data": {
      "text/plain": [
       "{1, 2, 3, 4, 5, 6, 8, 9}"
      ]
     },
     "execution_count": 2,
     "metadata": {},
     "output_type": "execute_result"
    }
   ],
   "source": [
    "# cast asa set to get unique values\n",
    "set(remove_dups)"
   ]
  },
  {
   "cell_type": "markdown",
   "id": "27de8079",
   "metadata": {},
   "source": [
    "## you can use set for strings as well."
   ]
  },
  {
   "cell_type": "code",
   "execution_count": null,
   "id": "aa71b1e2",
   "metadata": {},
   "outputs": [],
   "source": []
  }
 ],
 "metadata": {
  "kernelspec": {
   "display_name": "Python 3",
   "language": "python",
   "name": "python3"
  },
  "language_info": {
   "codemirror_mode": {
    "name": "ipython",
    "version": 3
   },
   "file_extension": ".py",
   "mimetype": "text/x-python",
   "name": "python",
   "nbconvert_exporter": "python",
   "pygments_lexer": "ipython3",
   "version": "3.8.8"
  }
 },
 "nbformat": 4,
 "nbformat_minor": 5
}
